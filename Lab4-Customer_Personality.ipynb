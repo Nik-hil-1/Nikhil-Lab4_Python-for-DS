{
 "cells": [
  {
   "cell_type": "code",
   "execution_count": 65,
   "id": "b4f51364",
   "metadata": {},
   "outputs": [],
   "source": [
    "#importing required library\n",
    "import pandas as pd\n",
    "import numpy as np\n",
    "import matplotlib.pyplot as plt\n",
    "import seaborn as sns\n",
    "import warnings\n",
    "warnings.filterwarnings('ignore')\n",
    "\n",
    "from sklearn.preprocessing import StandardScaler\n",
    "from sklearn.preprocessing import LabelEncoder\n",
    "from scipy import stats\n",
    "#from sklearn.cluster import KMeans\n",
    "from scipy.stats import zscore\n",
    "from scipy.spatial import distance\n",
    "from scipy.cluster.hierarchy import linkage, dendrogram, fcluster\n",
    "from sklearn.cluster import AgglomerativeClustering\n",
    "from sklearn.decomposition import PCA"
   ]
  },
  {
   "cell_type": "code",
   "execution_count": 2,
   "id": "ed3f4f25",
   "metadata": {},
   "outputs": [
    {
     "data": {
      "text/html": [
       "<div>\n",
       "<style scoped>\n",
       "    .dataframe tbody tr th:only-of-type {\n",
       "        vertical-align: middle;\n",
       "    }\n",
       "\n",
       "    .dataframe tbody tr th {\n",
       "        vertical-align: top;\n",
       "    }\n",
       "\n",
       "    .dataframe thead th {\n",
       "        text-align: right;\n",
       "    }\n",
       "</style>\n",
       "<table border=\"1\" class=\"dataframe\">\n",
       "  <thead>\n",
       "    <tr style=\"text-align: right;\">\n",
       "      <th></th>\n",
       "      <th>ID</th>\n",
       "      <th>Year_Birth</th>\n",
       "      <th>Education</th>\n",
       "      <th>Marital_Status</th>\n",
       "      <th>Income</th>\n",
       "      <th>Kidhome</th>\n",
       "      <th>Teenhome</th>\n",
       "      <th>Dt_Customer</th>\n",
       "      <th>Recency</th>\n",
       "      <th>MntWines</th>\n",
       "      <th>...</th>\n",
       "      <th>NumCatalogPurchases</th>\n",
       "      <th>NumStorePurchases</th>\n",
       "      <th>NumWebVisitsMonth</th>\n",
       "      <th>AcceptedCmp3</th>\n",
       "      <th>AcceptedCmp4</th>\n",
       "      <th>AcceptedCmp5</th>\n",
       "      <th>AcceptedCmp1</th>\n",
       "      <th>AcceptedCmp2</th>\n",
       "      <th>Complain</th>\n",
       "      <th>Response</th>\n",
       "    </tr>\n",
       "  </thead>\n",
       "  <tbody>\n",
       "    <tr>\n",
       "      <th>0</th>\n",
       "      <td>5524</td>\n",
       "      <td>1957</td>\n",
       "      <td>Graduation</td>\n",
       "      <td>Single</td>\n",
       "      <td>58138.0</td>\n",
       "      <td>0</td>\n",
       "      <td>0</td>\n",
       "      <td>4/9/2012</td>\n",
       "      <td>58</td>\n",
       "      <td>635</td>\n",
       "      <td>...</td>\n",
       "      <td>10</td>\n",
       "      <td>4</td>\n",
       "      <td>7</td>\n",
       "      <td>0</td>\n",
       "      <td>0</td>\n",
       "      <td>0</td>\n",
       "      <td>0</td>\n",
       "      <td>0</td>\n",
       "      <td>0</td>\n",
       "      <td>1</td>\n",
       "    </tr>\n",
       "    <tr>\n",
       "      <th>1</th>\n",
       "      <td>2174</td>\n",
       "      <td>1954</td>\n",
       "      <td>Graduation</td>\n",
       "      <td>Single</td>\n",
       "      <td>46344.0</td>\n",
       "      <td>1</td>\n",
       "      <td>1</td>\n",
       "      <td>8/3/2014</td>\n",
       "      <td>38</td>\n",
       "      <td>11</td>\n",
       "      <td>...</td>\n",
       "      <td>1</td>\n",
       "      <td>2</td>\n",
       "      <td>5</td>\n",
       "      <td>0</td>\n",
       "      <td>0</td>\n",
       "      <td>0</td>\n",
       "      <td>0</td>\n",
       "      <td>0</td>\n",
       "      <td>0</td>\n",
       "      <td>0</td>\n",
       "    </tr>\n",
       "    <tr>\n",
       "      <th>2</th>\n",
       "      <td>4141</td>\n",
       "      <td>1965</td>\n",
       "      <td>Graduation</td>\n",
       "      <td>Together</td>\n",
       "      <td>71613.0</td>\n",
       "      <td>0</td>\n",
       "      <td>0</td>\n",
       "      <td>21-08-2013</td>\n",
       "      <td>26</td>\n",
       "      <td>426</td>\n",
       "      <td>...</td>\n",
       "      <td>2</td>\n",
       "      <td>10</td>\n",
       "      <td>4</td>\n",
       "      <td>0</td>\n",
       "      <td>0</td>\n",
       "      <td>0</td>\n",
       "      <td>0</td>\n",
       "      <td>0</td>\n",
       "      <td>0</td>\n",
       "      <td>0</td>\n",
       "    </tr>\n",
       "    <tr>\n",
       "      <th>3</th>\n",
       "      <td>6182</td>\n",
       "      <td>1984</td>\n",
       "      <td>Graduation</td>\n",
       "      <td>Together</td>\n",
       "      <td>26646.0</td>\n",
       "      <td>1</td>\n",
       "      <td>0</td>\n",
       "      <td>10/2/2014</td>\n",
       "      <td>26</td>\n",
       "      <td>11</td>\n",
       "      <td>...</td>\n",
       "      <td>0</td>\n",
       "      <td>4</td>\n",
       "      <td>6</td>\n",
       "      <td>0</td>\n",
       "      <td>0</td>\n",
       "      <td>0</td>\n",
       "      <td>0</td>\n",
       "      <td>0</td>\n",
       "      <td>0</td>\n",
       "      <td>0</td>\n",
       "    </tr>\n",
       "    <tr>\n",
       "      <th>4</th>\n",
       "      <td>5324</td>\n",
       "      <td>1981</td>\n",
       "      <td>PhD</td>\n",
       "      <td>Married</td>\n",
       "      <td>58293.0</td>\n",
       "      <td>1</td>\n",
       "      <td>0</td>\n",
       "      <td>19-01-2014</td>\n",
       "      <td>94</td>\n",
       "      <td>173</td>\n",
       "      <td>...</td>\n",
       "      <td>3</td>\n",
       "      <td>6</td>\n",
       "      <td>5</td>\n",
       "      <td>0</td>\n",
       "      <td>0</td>\n",
       "      <td>0</td>\n",
       "      <td>0</td>\n",
       "      <td>0</td>\n",
       "      <td>0</td>\n",
       "      <td>0</td>\n",
       "    </tr>\n",
       "  </tbody>\n",
       "</table>\n",
       "<p>5 rows × 27 columns</p>\n",
       "</div>"
      ],
      "text/plain": [
       "     ID  Year_Birth   Education Marital_Status   Income  Kidhome  Teenhome  \\\n",
       "0  5524        1957  Graduation         Single  58138.0        0         0   \n",
       "1  2174        1954  Graduation         Single  46344.0        1         1   \n",
       "2  4141        1965  Graduation       Together  71613.0        0         0   \n",
       "3  6182        1984  Graduation       Together  26646.0        1         0   \n",
       "4  5324        1981         PhD        Married  58293.0        1         0   \n",
       "\n",
       "  Dt_Customer  Recency  MntWines  ...  NumCatalogPurchases  NumStorePurchases  \\\n",
       "0    4/9/2012       58       635  ...                   10                  4   \n",
       "1    8/3/2014       38        11  ...                    1                  2   \n",
       "2  21-08-2013       26       426  ...                    2                 10   \n",
       "3   10/2/2014       26        11  ...                    0                  4   \n",
       "4  19-01-2014       94       173  ...                    3                  6   \n",
       "\n",
       "   NumWebVisitsMonth  AcceptedCmp3  AcceptedCmp4  AcceptedCmp5  AcceptedCmp1  \\\n",
       "0                  7             0             0             0             0   \n",
       "1                  5             0             0             0             0   \n",
       "2                  4             0             0             0             0   \n",
       "3                  6             0             0             0             0   \n",
       "4                  5             0             0             0             0   \n",
       "\n",
       "   AcceptedCmp2  Complain  Response  \n",
       "0             0         0         1  \n",
       "1             0         0         0  \n",
       "2             0         0         0  \n",
       "3             0         0         0  \n",
       "4             0         0         0  \n",
       "\n",
       "[5 rows x 27 columns]"
      ]
     },
     "execution_count": 2,
     "metadata": {},
     "output_type": "execute_result"
    }
   ],
   "source": [
    "#reading dataset\n",
    "df = pd.read_csv('marketing.csv')\n",
    "df.head()"
   ]
  },
  {
   "cell_type": "code",
   "execution_count": 3,
   "id": "0766c46c",
   "metadata": {},
   "outputs": [
    {
     "data": {
      "text/plain": [
       "(2240, 27)"
      ]
     },
     "execution_count": 3,
     "metadata": {},
     "output_type": "execute_result"
    }
   ],
   "source": [
    "#checking the rows & columns in the dataset\n",
    "df.shape"
   ]
  },
  {
   "cell_type": "code",
   "execution_count": 4,
   "id": "63d3e897",
   "metadata": {},
   "outputs": [
    {
     "name": "stdout",
     "output_type": "stream",
     "text": [
      "<class 'pandas.core.frame.DataFrame'>\n",
      "RangeIndex: 2240 entries, 0 to 2239\n",
      "Data columns (total 27 columns):\n",
      " #   Column               Non-Null Count  Dtype  \n",
      "---  ------               --------------  -----  \n",
      " 0   ID                   2240 non-null   int64  \n",
      " 1   Year_Birth           2240 non-null   int64  \n",
      " 2   Education            2240 non-null   object \n",
      " 3   Marital_Status       2240 non-null   object \n",
      " 4   Income               2216 non-null   float64\n",
      " 5   Kidhome              2240 non-null   int64  \n",
      " 6   Teenhome             2240 non-null   int64  \n",
      " 7   Dt_Customer          2240 non-null   object \n",
      " 8   Recency              2240 non-null   int64  \n",
      " 9   MntWines             2240 non-null   int64  \n",
      " 10  MntFruits            2240 non-null   int64  \n",
      " 11  MntMeatProducts      2240 non-null   int64  \n",
      " 12  MntFishProducts      2240 non-null   int64  \n",
      " 13  MntSweetProducts     2240 non-null   int64  \n",
      " 14  MntGoldProds         2240 non-null   int64  \n",
      " 15  NumDealsPurchases    2240 non-null   int64  \n",
      " 16  NumWebPurchases      2240 non-null   int64  \n",
      " 17  NumCatalogPurchases  2240 non-null   int64  \n",
      " 18  NumStorePurchases    2240 non-null   int64  \n",
      " 19  NumWebVisitsMonth    2240 non-null   int64  \n",
      " 20  AcceptedCmp3         2240 non-null   int64  \n",
      " 21  AcceptedCmp4         2240 non-null   int64  \n",
      " 22  AcceptedCmp5         2240 non-null   int64  \n",
      " 23  AcceptedCmp1         2240 non-null   int64  \n",
      " 24  AcceptedCmp2         2240 non-null   int64  \n",
      " 25  Complain             2240 non-null   int64  \n",
      " 26  Response             2240 non-null   int64  \n",
      "dtypes: float64(1), int64(23), object(3)\n",
      "memory usage: 472.6+ KB\n"
     ]
    }
   ],
   "source": [
    "#checking the info of the dataset\n",
    "df.info()"
   ]
  },
  {
   "cell_type": "code",
   "execution_count": 5,
   "id": "24a46597",
   "metadata": {},
   "outputs": [
    {
     "data": {
      "text/plain": [
       "ID                     0.000000\n",
       "Year_Birth             0.000000\n",
       "Education              0.000000\n",
       "Marital_Status         0.000000\n",
       "Income                 1.071429\n",
       "Kidhome                0.000000\n",
       "Teenhome               0.000000\n",
       "Dt_Customer            0.000000\n",
       "Recency                0.000000\n",
       "MntWines               0.000000\n",
       "MntFruits              0.000000\n",
       "MntMeatProducts        0.000000\n",
       "MntFishProducts        0.000000\n",
       "MntSweetProducts       0.000000\n",
       "MntGoldProds           0.000000\n",
       "NumDealsPurchases      0.000000\n",
       "NumWebPurchases        0.000000\n",
       "NumCatalogPurchases    0.000000\n",
       "NumStorePurchases      0.000000\n",
       "NumWebVisitsMonth      0.000000\n",
       "AcceptedCmp3           0.000000\n",
       "AcceptedCmp4           0.000000\n",
       "AcceptedCmp5           0.000000\n",
       "AcceptedCmp1           0.000000\n",
       "AcceptedCmp2           0.000000\n",
       "Complain               0.000000\n",
       "Response               0.000000\n",
       "dtype: float64"
      ]
     },
     "execution_count": 5,
     "metadata": {},
     "output_type": "execute_result"
    }
   ],
   "source": [
    "#checking the percentage of missing values\n",
    "df.isnull().sum()/len(df)*100"
   ]
  },
  {
   "cell_type": "code",
   "execution_count": 7,
   "id": "170671fa",
   "metadata": {},
   "outputs": [],
   "source": [
    "#filling the missing values with zero in the numerical category column\n",
    "df['Income'].fillna(df['Income'].mean(), inplace=True)"
   ]
  },
  {
   "cell_type": "code",
   "execution_count": 8,
   "id": "6a3a3056",
   "metadata": {},
   "outputs": [
    {
     "data": {
      "text/plain": [
       "ID                     0\n",
       "Year_Birth             0\n",
       "Education              0\n",
       "Marital_Status         0\n",
       "Income                 0\n",
       "Kidhome                0\n",
       "Teenhome               0\n",
       "Dt_Customer            0\n",
       "Recency                0\n",
       "MntWines               0\n",
       "MntFruits              0\n",
       "MntMeatProducts        0\n",
       "MntFishProducts        0\n",
       "MntSweetProducts       0\n",
       "MntGoldProds           0\n",
       "NumDealsPurchases      0\n",
       "NumWebPurchases        0\n",
       "NumCatalogPurchases    0\n",
       "NumStorePurchases      0\n",
       "NumWebVisitsMonth      0\n",
       "AcceptedCmp3           0\n",
       "AcceptedCmp4           0\n",
       "AcceptedCmp5           0\n",
       "AcceptedCmp1           0\n",
       "AcceptedCmp2           0\n",
       "Complain               0\n",
       "Response               0\n",
       "dtype: int64"
      ]
     },
     "execution_count": 8,
     "metadata": {},
     "output_type": "execute_result"
    }
   ],
   "source": [
    "#checking dataset if it fills missing values or not\n",
    "df.isnull().sum()"
   ]
  },
  {
   "cell_type": "code",
   "execution_count": 11,
   "id": "851cd1a6",
   "metadata": {
    "scrolled": true
   },
   "outputs": [
    {
     "data": {
      "text/plain": [
       "0"
      ]
     },
     "execution_count": 11,
     "metadata": {},
     "output_type": "execute_result"
    }
   ],
   "source": [
    "#checking for duplicates record in dataset\n",
    "len(df[df.duplicated()])"
   ]
  },
  {
   "cell_type": "code",
   "execution_count": 12,
   "id": "7c4514f6",
   "metadata": {},
   "outputs": [],
   "source": [
    "#dropping redundant columns\n",
    "df = df.drop(columns = ['ID', 'Dt_Customer'], axis=1)"
   ]
  },
  {
   "cell_type": "code",
   "execution_count": 15,
   "id": "418fe1e7",
   "metadata": {},
   "outputs": [
    {
     "data": {
      "text/plain": [
       "array(['Single', 'Together', 'Married', 'Divorced', 'Widow', 'Alone',\n",
       "       'Absurd', 'YOLO'], dtype=object)"
      ]
     },
     "execution_count": 15,
     "metadata": {},
     "output_type": "execute_result"
    }
   ],
   "source": [
    "#checking unique values of Marital_Status column\n",
    "df['Marital_Status'].unique()"
   ]
  },
  {
   "cell_type": "code",
   "execution_count": 21,
   "id": "46e2fcbc",
   "metadata": {},
   "outputs": [],
   "source": [
    "#replacing Marital_Status column values with relationship and single\n",
    "df['Marital_Status'] = df['Marital_Status'].replace(['Married', 'Together'], 'relationship')\n",
    "df['Marital_Status'] = df['Marital_Status'].replace(['Divorced', 'Widow', 'YOLO', 'Absurd', 'Alone', 'single'], 'Single')"
   ]
  },
  {
   "cell_type": "code",
   "execution_count": 22,
   "id": "28b67349",
   "metadata": {},
   "outputs": [
    {
     "data": {
      "text/plain": [
       "array(['Single', 'relationship'], dtype=object)"
      ]
     },
     "execution_count": 22,
     "metadata": {},
     "output_type": "execute_result"
    }
   ],
   "source": [
    "#checking unique values of Marital_Status column after replacing values\n",
    "df['Marital_Status'].unique()"
   ]
  },
  {
   "cell_type": "code",
   "execution_count": 24,
   "id": "6235d85b",
   "metadata": {},
   "outputs": [
    {
     "data": {
      "text/plain": [
       "0    1617\n",
       "1      27\n",
       "2     776\n",
       "3      53\n",
       "4     422\n",
       "Name: Total_Expenses, dtype: int64"
      ]
     },
     "execution_count": 24,
     "metadata": {},
     "output_type": "execute_result"
    }
   ],
   "source": [
    "#grouping the columns  'MntWines', 'MntFruits', 'MntMeatProducts', 'MntFishProducts', 'MntSweetProducts', and\n",
    "#'MntGoldProds' as 'Total_Expenses'\n",
    "df['Total_Expenses'] = df['MntWines']+df['MntFruits']+df['MntMeatProducts']+df['MntFishProducts']+df['MntSweetProducts']+df['MntGoldProds']\n",
    "df['Total_Expenses'].head()"
   ]
  },
  {
   "cell_type": "code",
   "execution_count": 27,
   "id": "498861f7",
   "metadata": {},
   "outputs": [
    {
     "data": {
      "text/plain": [
       "0    25\n",
       "1     6\n",
       "2    21\n",
       "3     8\n",
       "4    19\n",
       "Name: Num_Total_Purchases, dtype: int64"
      ]
     },
     "execution_count": 27,
     "metadata": {},
     "output_type": "execute_result"
    }
   ],
   "source": [
    "#grouping the columns 'NumWebPurchases', 'NumCatalogPurchases', 'NumStorePurchases', and 'NumDealsPurchases' \n",
    "#as 'Num_Total_Purchases'\n",
    "df['Num_Total_Purchases'] = df['NumWebPurchases']+df['NumCatalogPurchases']+df['NumStorePurchases']+df['NumDealsPurchases']\n",
    "df['Num_Total_Purchases'].head()"
   ]
  },
  {
   "cell_type": "code",
   "execution_count": 28,
   "id": "bea84ce4",
   "metadata": {},
   "outputs": [
    {
     "data": {
      "text/plain": [
       "0    0\n",
       "1    2\n",
       "2    0\n",
       "3    1\n",
       "4    1\n",
       "Name: Kids, dtype: int64"
      ]
     },
     "execution_count": 28,
     "metadata": {},
     "output_type": "execute_result"
    }
   ],
   "source": [
    "#grouping the columns 'Kidhome' and 'Teenhome' as 'Kids'\n",
    "df['Kids'] = df['Kidhome']+df['Teenhome']\n",
    "df['Kids'].head()"
   ]
  },
  {
   "cell_type": "code",
   "execution_count": 29,
   "id": "f0f3ca94",
   "metadata": {},
   "outputs": [
    {
     "data": {
      "text/plain": [
       "0    1\n",
       "1    0\n",
       "2    0\n",
       "3    0\n",
       "4    0\n",
       "Name: TotalAcceptedCmp, dtype: int64"
      ]
     },
     "execution_count": 29,
     "metadata": {},
     "output_type": "execute_result"
    }
   ],
   "source": [
    "# grouping the columns 'AcceptedCmp1 , 2 , 3 , 4, 5' and 'Response' as 'TotalAcceptedCmp'\n",
    "df['TotalAcceptedCmp'] = df['AcceptedCmp1']+df['AcceptedCmp2']+df['AcceptedCmp3']+df['AcceptedCmp4']+df['AcceptedCmp5']+df['Response']\n",
    "df['TotalAcceptedCmp'].head()"
   ]
  },
  {
   "cell_type": "code",
   "execution_count": 30,
   "id": "1cc449de",
   "metadata": {},
   "outputs": [
    {
     "data": {
      "text/html": [
       "<div>\n",
       "<style scoped>\n",
       "    .dataframe tbody tr th:only-of-type {\n",
       "        vertical-align: middle;\n",
       "    }\n",
       "\n",
       "    .dataframe tbody tr th {\n",
       "        vertical-align: top;\n",
       "    }\n",
       "\n",
       "    .dataframe thead th {\n",
       "        text-align: right;\n",
       "    }\n",
       "</style>\n",
       "<table border=\"1\" class=\"dataframe\">\n",
       "  <thead>\n",
       "    <tr style=\"text-align: right;\">\n",
       "      <th></th>\n",
       "      <th>Year_Birth</th>\n",
       "      <th>Education</th>\n",
       "      <th>Marital_Status</th>\n",
       "      <th>Income</th>\n",
       "      <th>Recency</th>\n",
       "      <th>NumWebVisitsMonth</th>\n",
       "      <th>Complain</th>\n",
       "      <th>Total_Expenses</th>\n",
       "      <th>Num_Total_Purchases</th>\n",
       "      <th>Kids</th>\n",
       "      <th>TotalAcceptedCmp</th>\n",
       "    </tr>\n",
       "  </thead>\n",
       "  <tbody>\n",
       "    <tr>\n",
       "      <th>0</th>\n",
       "      <td>1957</td>\n",
       "      <td>Graduation</td>\n",
       "      <td>Single</td>\n",
       "      <td>58138.0</td>\n",
       "      <td>58</td>\n",
       "      <td>7</td>\n",
       "      <td>0</td>\n",
       "      <td>1617</td>\n",
       "      <td>25</td>\n",
       "      <td>0</td>\n",
       "      <td>1</td>\n",
       "    </tr>\n",
       "    <tr>\n",
       "      <th>1</th>\n",
       "      <td>1954</td>\n",
       "      <td>Graduation</td>\n",
       "      <td>Single</td>\n",
       "      <td>46344.0</td>\n",
       "      <td>38</td>\n",
       "      <td>5</td>\n",
       "      <td>0</td>\n",
       "      <td>27</td>\n",
       "      <td>6</td>\n",
       "      <td>2</td>\n",
       "      <td>0</td>\n",
       "    </tr>\n",
       "    <tr>\n",
       "      <th>2</th>\n",
       "      <td>1965</td>\n",
       "      <td>Graduation</td>\n",
       "      <td>relationship</td>\n",
       "      <td>71613.0</td>\n",
       "      <td>26</td>\n",
       "      <td>4</td>\n",
       "      <td>0</td>\n",
       "      <td>776</td>\n",
       "      <td>21</td>\n",
       "      <td>0</td>\n",
       "      <td>0</td>\n",
       "    </tr>\n",
       "    <tr>\n",
       "      <th>3</th>\n",
       "      <td>1984</td>\n",
       "      <td>Graduation</td>\n",
       "      <td>relationship</td>\n",
       "      <td>26646.0</td>\n",
       "      <td>26</td>\n",
       "      <td>6</td>\n",
       "      <td>0</td>\n",
       "      <td>53</td>\n",
       "      <td>8</td>\n",
       "      <td>1</td>\n",
       "      <td>0</td>\n",
       "    </tr>\n",
       "    <tr>\n",
       "      <th>4</th>\n",
       "      <td>1981</td>\n",
       "      <td>PhD</td>\n",
       "      <td>relationship</td>\n",
       "      <td>58293.0</td>\n",
       "      <td>94</td>\n",
       "      <td>5</td>\n",
       "      <td>0</td>\n",
       "      <td>422</td>\n",
       "      <td>19</td>\n",
       "      <td>1</td>\n",
       "      <td>0</td>\n",
       "    </tr>\n",
       "  </tbody>\n",
       "</table>\n",
       "</div>"
      ],
      "text/plain": [
       "   Year_Birth   Education Marital_Status   Income  Recency  NumWebVisitsMonth  \\\n",
       "0        1957  Graduation         Single  58138.0       58                  7   \n",
       "1        1954  Graduation         Single  46344.0       38                  5   \n",
       "2        1965  Graduation   relationship  71613.0       26                  4   \n",
       "3        1984  Graduation   relationship  26646.0       26                  6   \n",
       "4        1981         PhD   relationship  58293.0       94                  5   \n",
       "\n",
       "   Complain  Total_Expenses  Num_Total_Purchases  Kids  TotalAcceptedCmp  \n",
       "0         0            1617                   25     0                 1  \n",
       "1         0              27                    6     2                 0  \n",
       "2         0             776                   21     0                 0  \n",
       "3         0              53                    8     1                 0  \n",
       "4         0             422                   19     1                 0  "
      ]
     },
     "execution_count": 30,
     "metadata": {},
     "output_type": "execute_result"
    }
   ],
   "source": [
    "#dropping those columns which we have used above for obtaining new features\n",
    "col_del = ['AcceptedCmp1', 'AcceptedCmp2', 'AcceptedCmp3', 'AcceptedCmp4', 'AcceptedCmp5', 'Response', 'Kidhome', 'Teenhome', 'NumWebPurchases', 'NumCatalogPurchases', 'NumStorePurchases', 'NumDealsPurchases', 'MntWines', 'MntFruits', 'MntMeatProducts', 'MntFishProducts', 'MntSweetProducts', 'MntGoldProds']\n",
    "df = df.drop(columns=col_del, axis=1)\n",
    "df.head()"
   ]
  },
  {
   "cell_type": "code",
   "execution_count": 31,
   "id": "4556f6ad",
   "metadata": {},
   "outputs": [
    {
     "data": {
      "text/plain": [
       "0       65\n",
       "1       68\n",
       "2       57\n",
       "3       38\n",
       "4       41\n",
       "        ..\n",
       "2235    55\n",
       "2236    76\n",
       "2237    41\n",
       "2238    66\n",
       "2239    68\n",
       "Name: Age, Length: 2240, dtype: int64"
      ]
     },
     "execution_count": 31,
     "metadata": {},
     "output_type": "execute_result"
    }
   ],
   "source": [
    "#adding a column Age in dataset\n",
    "import datetime as dt\n",
    "df['Age'] = dt.datetime.today().year - df['Year_Birth']\n",
    "df['Age']"
   ]
  },
  {
   "cell_type": "code",
   "execution_count": 32,
   "id": "7ad41d10",
   "metadata": {},
   "outputs": [],
   "source": [
    "#dropping the column Year_Birth\n",
    "df.drop('Year_Birth', axis=1, inplace=True)"
   ]
  },
  {
   "cell_type": "code",
   "execution_count": 33,
   "id": "fa761bc4",
   "metadata": {},
   "outputs": [],
   "source": [
    "#encode the categorical column \n",
    "cat = ['Education', 'Marital_Status']\n",
    "lbl_enc = LabelEncoder()\n",
    "for i in cat:\n",
    "    df[i] = df[[i]].apply(lbl_enc.fit_transform)"
   ]
  },
  {
   "cell_type": "code",
   "execution_count": 107,
   "id": "97f3ed90",
   "metadata": {},
   "outputs": [
    {
     "data": {
      "text/plain": [
       "0    2\n",
       "1    2\n",
       "2    2\n",
       "3    2\n",
       "4    4\n",
       "Name: Education, dtype: int32"
      ]
     },
     "execution_count": 107,
     "metadata": {},
     "output_type": "execute_result"
    }
   ],
   "source": [
    "df['Education'].head()"
   ]
  },
  {
   "cell_type": "code",
   "execution_count": 38,
   "id": "c14d4165",
   "metadata": {},
   "outputs": [],
   "source": [
    "#standardize the column\n",
    "df1 = df.copy()\n",
    "scaled_features = StandardScaler().fit_transform(df1.values)\n",
    "scaled_features_df = pd.DataFrame(scaled_features, index=df1.index, columns=df1.columns)"
   ]
  },
  {
   "cell_type": "code",
   "execution_count": 40,
   "id": "9d850d60",
   "metadata": {},
   "outputs": [
    {
     "data": {
      "text/html": [
       "<div>\n",
       "<style scoped>\n",
       "    .dataframe tbody tr th:only-of-type {\n",
       "        vertical-align: middle;\n",
       "    }\n",
       "\n",
       "    .dataframe tbody tr th {\n",
       "        vertical-align: top;\n",
       "    }\n",
       "\n",
       "    .dataframe thead th {\n",
       "        text-align: right;\n",
       "    }\n",
       "</style>\n",
       "<table border=\"1\" class=\"dataframe\">\n",
       "  <thead>\n",
       "    <tr style=\"text-align: right;\">\n",
       "      <th></th>\n",
       "      <th>Education</th>\n",
       "      <th>Marital_Status</th>\n",
       "      <th>Income</th>\n",
       "      <th>Recency</th>\n",
       "      <th>NumWebVisitsMonth</th>\n",
       "      <th>Complain</th>\n",
       "      <th>Total_Expenses</th>\n",
       "      <th>Num_Total_Purchases</th>\n",
       "      <th>Kids</th>\n",
       "      <th>TotalAcceptedCmp</th>\n",
       "      <th>Age</th>\n",
       "    </tr>\n",
       "  </thead>\n",
       "  <tbody>\n",
       "    <tr>\n",
       "      <th>0</th>\n",
       "      <td>-0.350141</td>\n",
       "      <td>-1.346874</td>\n",
       "      <td>0.235327</td>\n",
       "      <td>0.307039</td>\n",
       "      <td>0.693904</td>\n",
       "      <td>-0.097282</td>\n",
       "      <td>1.679417</td>\n",
       "      <td>1.320826</td>\n",
       "      <td>-1.264505</td>\n",
       "      <td>0.621248</td>\n",
       "      <td>0.985345</td>\n",
       "    </tr>\n",
       "    <tr>\n",
       "      <th>1</th>\n",
       "      <td>-0.350141</td>\n",
       "      <td>-1.346874</td>\n",
       "      <td>-0.235826</td>\n",
       "      <td>-0.383664</td>\n",
       "      <td>-0.130463</td>\n",
       "      <td>-0.097282</td>\n",
       "      <td>-0.961275</td>\n",
       "      <td>-1.154596</td>\n",
       "      <td>1.396361</td>\n",
       "      <td>-0.501912</td>\n",
       "      <td>1.235733</td>\n",
       "    </tr>\n",
       "    <tr>\n",
       "      <th>2</th>\n",
       "      <td>-0.350141</td>\n",
       "      <td>0.742460</td>\n",
       "      <td>0.773633</td>\n",
       "      <td>-0.798086</td>\n",
       "      <td>-0.542647</td>\n",
       "      <td>-0.097282</td>\n",
       "      <td>0.282673</td>\n",
       "      <td>0.799685</td>\n",
       "      <td>-1.264505</td>\n",
       "      <td>-0.501912</td>\n",
       "      <td>0.317643</td>\n",
       "    </tr>\n",
       "    <tr>\n",
       "      <th>3</th>\n",
       "      <td>-0.350141</td>\n",
       "      <td>0.742460</td>\n",
       "      <td>-1.022732</td>\n",
       "      <td>-0.798086</td>\n",
       "      <td>0.281720</td>\n",
       "      <td>-0.097282</td>\n",
       "      <td>-0.918094</td>\n",
       "      <td>-0.894025</td>\n",
       "      <td>0.065928</td>\n",
       "      <td>-0.501912</td>\n",
       "      <td>-1.268149</td>\n",
       "    </tr>\n",
       "    <tr>\n",
       "      <th>4</th>\n",
       "      <td>1.428354</td>\n",
       "      <td>0.742460</td>\n",
       "      <td>0.241519</td>\n",
       "      <td>1.550305</td>\n",
       "      <td>-0.130463</td>\n",
       "      <td>-0.097282</td>\n",
       "      <td>-0.305254</td>\n",
       "      <td>0.539114</td>\n",
       "      <td>0.065928</td>\n",
       "      <td>-0.501912</td>\n",
       "      <td>-1.017761</td>\n",
       "    </tr>\n",
       "  </tbody>\n",
       "</table>\n",
       "</div>"
      ],
      "text/plain": [
       "   Education  Marital_Status    Income   Recency  NumWebVisitsMonth  Complain  \\\n",
       "0  -0.350141       -1.346874  0.235327  0.307039           0.693904 -0.097282   \n",
       "1  -0.350141       -1.346874 -0.235826 -0.383664          -0.130463 -0.097282   \n",
       "2  -0.350141        0.742460  0.773633 -0.798086          -0.542647 -0.097282   \n",
       "3  -0.350141        0.742460 -1.022732 -0.798086           0.281720 -0.097282   \n",
       "4   1.428354        0.742460  0.241519  1.550305          -0.130463 -0.097282   \n",
       "\n",
       "   Total_Expenses  Num_Total_Purchases      Kids  TotalAcceptedCmp       Age  \n",
       "0        1.679417             1.320826 -1.264505          0.621248  0.985345  \n",
       "1       -0.961275            -1.154596  1.396361         -0.501912  1.235733  \n",
       "2        0.282673             0.799685 -1.264505         -0.501912  0.317643  \n",
       "3       -0.918094            -0.894025  0.065928         -0.501912 -1.268149  \n",
       "4       -0.305254             0.539114  0.065928         -0.501912 -1.017761  "
      ]
     },
     "execution_count": 40,
     "metadata": {},
     "output_type": "execute_result"
    }
   ],
   "source": [
    "scaled_features_df.head()"
   ]
  },
  {
   "cell_type": "code",
   "execution_count": 41,
   "id": "547f0f57",
   "metadata": {},
   "outputs": [
    {
     "data": {
      "text/plain": [
       "array([[ 1.00044663, -0.01375403,  0.1200273 , -0.01173369, -0.04029882,\n",
       "        -0.05056252,  0.09209518,  0.09405439,  0.05321304,  0.06327892,\n",
       "         0.17146685],\n",
       "       [-0.01375403,  1.00044663,  0.00463847, -0.00450972,  0.00344176,\n",
       "        -0.00520466, -0.01775232,  0.00671037,  0.03917598, -0.06004206,\n",
       "        -0.0042384 ],\n",
       "       [ 0.1200273 ,  0.00463847,  1.00044663, -0.00394826, -0.55006966,\n",
       "        -0.02723528,  0.66500337,  0.5636214 , -0.29084155,  0.28717443,\n",
       "         0.16101378],\n",
       "       [-0.01173369, -0.00450972, -0.00394826,  1.00044663, -0.02145427,\n",
       "         0.01323699,  0.02044173,  0.00574294,  0.01806145, -0.08900203,\n",
       "         0.01987996],\n",
       "       [-0.04029882,  0.00344176, -0.55006966, -0.02145427,  1.00044663,\n",
       "         0.01977734, -0.50044131, -0.31242795,  0.41860616, -0.12836726,\n",
       "        -0.12119336],\n",
       "       [-0.05056252, -0.00520466, -0.02723528,  0.01323699,  0.01977734,\n",
       "         1.00044663, -0.03707503, -0.02059185,  0.03108014, -0.01761676,\n",
       "         0.030141  ],\n",
       "       [ 0.09209518, -0.01775232,  0.66500337,  0.02044173, -0.50044131,\n",
       "        -0.03707503,  1.00044663,  0.75423984, -0.49911047,  0.4564099 ,\n",
       "         0.11135611],\n",
       "       [ 0.09405439,  0.00671037,  0.5636214 ,  0.00574294, -0.31242795,\n",
       "        -0.02059185,  0.75423984,  1.00044663, -0.24589955,  0.25816052,\n",
       "         0.16837908],\n",
       "       [ 0.05321304,  0.03917598, -0.29084155,  0.01806145,  0.41860616,\n",
       "         0.03108014, -0.49911047, -0.24589955,  1.00044663, -0.25387372,\n",
       "         0.09023955],\n",
       "       [ 0.06327892, -0.06004206,  0.28717443, -0.08900203, -0.12836726,\n",
       "        -0.01761676,  0.4564099 ,  0.25816052, -0.25387372,  1.00044663,\n",
       "        -0.00830618],\n",
       "       [ 0.17146685, -0.0042384 ,  0.16101378,  0.01987996, -0.12119336,\n",
       "         0.030141  ,  0.11135611,  0.16837908,  0.09023955, -0.00830618,\n",
       "         1.00044663]])"
      ]
     },
     "execution_count": 41,
     "metadata": {},
     "output_type": "execute_result"
    }
   ],
   "source": [
    "#applying PCA to find no. of features required that will use 90% to 95% variance\n",
    "\n",
    "#step1 - calculate the covariance matrix\n",
    "cov_matrix = np.cov(scaled_features.T)\n",
    "cov_matrix"
   ]
  },
  {
   "cell_type": "code",
   "execution_count": 42,
   "id": "ac87df68",
   "metadata": {},
   "outputs": [
    {
     "name": "stdout",
     "output_type": "stream",
     "text": [
      "eig_vals: \n",
      " [3.19039372 0.15898065 0.33403219 1.25762686 0.57476787 0.70088408\n",
      " 0.81488009 0.88268465 1.07560545 0.99819186 1.01686548]\n",
      "\n",
      "\n",
      "eig_vectors: \n",
      " [[-8.10878879e-02 -1.28355184e-02 -2.36293947e-02 -5.51249544e-01\n",
      "   9.44095922e-02  1.09410621e-01  6.91170717e-01 -2.13981881e-01\n",
      "   3.53512225e-01  1.33215293e-01  4.14647769e-02]\n",
      " [ 1.66012105e-02 -5.44320001e-04 -2.67214391e-03 -7.24616823e-02\n",
      "   9.22507506e-03 -1.59630615e-01  9.75252262e-02 -2.48006969e-01\n",
      "  -2.93241983e-01 -5.20771188e-01  7.35314297e-01]\n",
      " [-4.53880338e-01 -1.10208189e-01  7.33626969e-01 -1.11676478e-01\n",
      "  -4.01003018e-01  2.33850859e-01 -3.55906464e-02  8.23323221e-02\n",
      "  -7.12476789e-02 -3.27656138e-02  3.84949439e-02]\n",
      " [ 4.86396555e-03 -3.74604574e-02  1.76527197e-02 -1.12971535e-01\n",
      "  -4.88116231e-02 -1.39195279e-01  2.76319114e-02 -4.78177475e-01\n",
      "  -6.57510164e-01  5.43205810e-01 -8.32561223e-02]\n",
      " [ 3.78658345e-01  9.89489261e-02  5.23256954e-01 -3.88425153e-02\n",
      "   4.48112460e-01  8.25533630e-02 -2.94912266e-01 -4.57654180e-01\n",
      "   2.47273799e-01 -5.72617366e-02 -5.52876154e-02]\n",
      " [ 2.90760818e-02  6.06341959e-03  2.99897258e-03 -2.18322944e-02\n",
      "   1.32512441e-02  6.69753940e-02  2.59964497e-01 -1.36535221e-01\n",
      "  -3.32942389e-01 -6.20854560e-01 -6.41433122e-01]\n",
      " [-5.13798774e-01  8.08731367e-01 -1.17264129e-01  3.71658939e-02\n",
      "   1.69401403e-01  9.38893200e-02 -9.86519786e-02 -1.39576264e-01\n",
      "  -4.61806718e-04 -8.17615116e-03 -6.27437640e-03]\n",
      " [-4.29017441e-01 -5.04358880e-01 -3.04719064e-01 -1.38520052e-01\n",
      "   3.58716989e-01  4.26004900e-01 -3.25141464e-01 -1.68760606e-01\n",
      "  -2.33770464e-02 -6.69212651e-02  1.20222745e-02]\n",
      " [ 3.24830013e-01  1.92207778e-01 -2.56272959e-01 -4.21696656e-01\n",
      "  -5.64587849e-01  3.67863937e-01 -3.50529639e-01 -1.64371746e-01\n",
      "   6.02541793e-02 -8.00971488e-02 -4.38176281e-03]\n",
      " [-2.79858667e-01 -1.76030180e-01 -1.09515910e-01  1.80985068e-01\n",
      "  -3.49326656e-01 -4.95096343e-01 -1.14208753e-01 -5.15379125e-01\n",
      "   4.14239939e-01 -9.46091473e-02 -1.39959893e-01]\n",
      " [-1.04928635e-01  1.01690738e-02  5.32295090e-02 -6.57647990e-01\n",
      "   1.69328363e-01 -5.53575132e-01 -3.23763830e-01  2.97636330e-01\n",
      "  -6.22530283e-02 -7.90814700e-02 -1.22045361e-01]]\n"
     ]
    }
   ],
   "source": [
    "#step2 - calculate the eigen values and vectors\n",
    "eig_vals, eig_vectors = np.linalg.eig(cov_matrix)\n",
    "print('eig_vals:', '\\n', eig_vals)\n",
    "print('\\n')\n",
    "print('eig_vectors:', '\\n', eig_vectors)"
   ]
  },
  {
   "cell_type": "code",
   "execution_count": 45,
   "id": "1bb071dc",
   "metadata": {},
   "outputs": [
    {
     "name": "stdout",
     "output_type": "stream",
     "text": [
      "Explained variance [28.99063120103076, 11.427867418203103, 9.773866099738862, 9.240104772844964, 9.070420346680967, 8.020823626792344, 7.404693691240495, 6.368828985843828, 5.222829816381421, 3.0353006494361634, 1.4446333918070957]\n",
      "\n",
      "\n",
      "Cummulative variance explained [ 28.9906312   40.41849862  50.19236472  59.43246949  68.50288984\n",
      "  76.52371347  83.92840716  90.29723614  95.52006596  98.55536661\n",
      " 100.        ]\n"
     ]
    }
   ],
   "source": [
    "#step3 - scree plot\n",
    "total = sum(eig_vals)\n",
    "\n",
    "var_exp = [(i/total)*100 for i in sorted(eig_vals, reverse=True)]\n",
    "cum_var_exp = np.cumsum(var_exp)\n",
    "print('Explained variance', var_exp)\n",
    "print('\\n')\n",
    "print('Cummulative variance explained', cum_var_exp)"
   ]
  },
  {
   "cell_type": "code",
   "execution_count": null,
   "id": "be4ec467",
   "metadata": {},
   "outputs": [],
   "source": [
    "#scree plot\n",
    "plt.bar(range(15), var_exp, align='center', color='lightgreen', edgecolor='black', label='Explained Variance')\n",
    "plt.step(range(15), cum_var_exp, where='mid', color='red', label='Cummulative Variance Explained')\n",
    "plt.xlabel('Pricipal Components')\n",
    "plt.ylabel('Explained variance ratio')\n",
    "plt.title('Scree plot')\n",
    "plt.legend(loc='best')\n",
    "plt.show()"
   ]
  },
  {
   "cell_type": "markdown",
   "id": "d213d96f",
   "metadata": {},
   "source": [
    "1. We can observe that 9 components are required to cover 95% variance."
   ]
  },
  {
   "cell_type": "code",
   "execution_count": 48,
   "id": "e1957ec3",
   "metadata": {},
   "outputs": [
    {
     "data": {
      "text/html": [
       "<div>\n",
       "<style scoped>\n",
       "    .dataframe tbody tr th:only-of-type {\n",
       "        vertical-align: middle;\n",
       "    }\n",
       "\n",
       "    .dataframe tbody tr th {\n",
       "        vertical-align: top;\n",
       "    }\n",
       "\n",
       "    .dataframe thead th {\n",
       "        text-align: right;\n",
       "    }\n",
       "</style>\n",
       "<table border=\"1\" class=\"dataframe\">\n",
       "  <thead>\n",
       "    <tr style=\"text-align: right;\">\n",
       "      <th></th>\n",
       "      <th>PC1</th>\n",
       "      <th>PC2</th>\n",
       "      <th>PC3</th>\n",
       "      <th>PC4</th>\n",
       "      <th>PC5</th>\n",
       "      <th>PC6</th>\n",
       "      <th>PC7</th>\n",
       "      <th>PC8</th>\n",
       "      <th>PC9</th>\n",
       "    </tr>\n",
       "  </thead>\n",
       "  <tbody>\n",
       "    <tr>\n",
       "      <th>0</th>\n",
       "      <td>1.956902</td>\n",
       "      <td>-0.081936</td>\n",
       "      <td>-0.344667</td>\n",
       "      <td>1.193687</td>\n",
       "      <td>-0.696970</td>\n",
       "      <td>-0.299137</td>\n",
       "      <td>-1.145041</td>\n",
       "      <td>-0.358094</td>\n",
       "      <td>-1.576873</td>\n",
       "    </tr>\n",
       "    <tr>\n",
       "      <th>1</th>\n",
       "      <td>-1.512598</td>\n",
       "      <td>1.000666</td>\n",
       "      <td>-0.367106</td>\n",
       "      <td>1.006953</td>\n",
       "      <td>-0.445000</td>\n",
       "      <td>1.371965</td>\n",
       "      <td>-0.724374</td>\n",
       "      <td>-0.346359</td>\n",
       "      <td>0.972746</td>\n",
       "    </tr>\n",
       "    <tr>\n",
       "      <th>2</th>\n",
       "      <td>1.314538</td>\n",
       "      <td>-0.299417</td>\n",
       "      <td>0.296366</td>\n",
       "      <td>-0.764913</td>\n",
       "      <td>0.732877</td>\n",
       "      <td>0.984394</td>\n",
       "      <td>0.025389</td>\n",
       "      <td>0.058563</td>\n",
       "      <td>-0.735851</td>\n",
       "    </tr>\n",
       "    <tr>\n",
       "      <th>3</th>\n",
       "      <td>-1.755094</td>\n",
       "      <td>-1.139847</td>\n",
       "      <td>-0.254499</td>\n",
       "      <td>-0.825065</td>\n",
       "      <td>0.579217</td>\n",
       "      <td>0.221975</td>\n",
       "      <td>0.562426</td>\n",
       "      <td>0.239541</td>\n",
       "      <td>0.005032</td>\n",
       "    </tr>\n",
       "    <tr>\n",
       "      <th>4</th>\n",
       "      <td>0.063584</td>\n",
       "      <td>0.571435</td>\n",
       "      <td>0.902243</td>\n",
       "      <td>-0.757574</td>\n",
       "      <td>-0.794825</td>\n",
       "      <td>-1.241683</td>\n",
       "      <td>1.325626</td>\n",
       "      <td>0.898316</td>\n",
       "      <td>-0.016878</td>\n",
       "    </tr>\n",
       "  </tbody>\n",
       "</table>\n",
       "</div>"
      ],
      "text/plain": [
       "        PC1       PC2       PC3       PC4       PC5       PC6       PC7  \\\n",
       "0  1.956902 -0.081936 -0.344667  1.193687 -0.696970 -0.299137 -1.145041   \n",
       "1 -1.512598  1.000666 -0.367106  1.006953 -0.445000  1.371965 -0.724374   \n",
       "2  1.314538 -0.299417  0.296366 -0.764913  0.732877  0.984394  0.025389   \n",
       "3 -1.755094 -1.139847 -0.254499 -0.825065  0.579217  0.221975  0.562426   \n",
       "4  0.063584  0.571435  0.902243 -0.757574 -0.794825 -1.241683  1.325626   \n",
       "\n",
       "        PC8       PC9  \n",
       "0 -0.358094 -1.576873  \n",
       "1 -0.346359  0.972746  \n",
       "2  0.058563 -0.735851  \n",
       "3  0.239541  0.005032  \n",
       "4  0.898316 -0.016878  "
      ]
     },
     "execution_count": 48,
     "metadata": {},
     "output_type": "execute_result"
    }
   ],
   "source": [
    "#applying KMeans clustering to segment the data\n",
    "pca = PCA(n_components=9)\n",
    "pca_df = pd.DataFrame(pca.fit_transform(scaled_features_df), columns=['PC1', 'PC2', 'PC3', 'PC4', 'PC5', 'PC6', 'PC7', 'PC8','PC9'])\n",
    "pca_df.head()"
   ]
  },
  {
   "cell_type": "code",
   "execution_count": 53,
   "id": "445d73f1",
   "metadata": {},
   "outputs": [
    {
     "data": {
      "text/plain": [
       "0    28.990631\n",
       "1    40.418499\n",
       "2    50.192365\n",
       "3    59.432469\n",
       "4    68.502890\n",
       "5    76.523713\n",
       "6    83.928407\n",
       "7    90.297236\n",
       "8    95.520066\n",
       "dtype: float64"
      ]
     },
     "execution_count": 53,
     "metadata": {},
     "output_type": "execute_result"
    }
   ],
   "source": [
    "pd.Series(pca.explained_variance_ratio_).cumsum()*100"
   ]
  },
  {
   "cell_type": "markdown",
   "id": "4893e523",
   "metadata": {},
   "source": [
    "1. Here, we can see that from PCA directly we can find that how much features are covering how much variance in dataset.\n",
    "   No need to calculate covariance matrix and multiplying eigen values and vectors."
   ]
  },
  {
   "cell_type": "code",
   "execution_count": 54,
   "id": "04943835",
   "metadata": {},
   "outputs": [],
   "source": [
    "#finding optimal value of k by KMeans clustering\n",
    "cluster_errors=[]\n",
    "cluster_range = range(2, 15)\n",
    "for num_clusters in cluster_range:\n",
    "    clusters = KMeans(num_clusters, random_state=100)\n",
    "    clusters.fit(pca_df)\n",
    "    cluster_errors.append(clusters.inertia_)"
   ]
  },
  {
   "cell_type": "code",
   "execution_count": 55,
   "id": "bcca695a",
   "metadata": {},
   "outputs": [
    {
     "data": {
      "image/png": "[encoded data removed]",
      "text/plain": [
       "<Figure size 1080x360 with 1 Axes>"
      ]
     },
     "metadata": {
      "needs_background": "light"
     },
     "output_type": "display_data"
    }
   ],
   "source": [
    "#creating a dataframe for no. of clusters and cluster errors\n",
    "cluster_df = pd.DataFrame({'num_clusters': cluster_range, 'cluster_errors': cluster_errors})\n",
    "\n",
    "#Elbow plot\n",
    "plt.figure(figsize=[15, 5])\n",
    "plt.plot(cluster_df['num_clusters'], cluster_df['cluster_errors'], marker='o', color='b')\n",
    "plt.show()"
   ]
  },
  {
   "cell_type": "code",
   "execution_count": 66,
   "id": "2d1d485c",
   "metadata": {},
   "outputs": [],
   "source": [
    "#Applying KMeans clustering for the optimal no. of clusters obtained above.\n",
    "from sklearn.cluster import KMeans\n",
    "kmeans = KMeans(n_clusters=3, random_state=100).fit(pca_df)"
   ]
  },
  {
   "cell_type": "code",
   "execution_count": 86,
   "id": "c7629b80",
   "metadata": {},
   "outputs": [],
   "source": [
    "#creating a dataframe of the labels\n",
    "label = pd.DataFrame(kmeans.labels_, columns=['Label'])"
   ]
  },
  {
   "cell_type": "code",
   "execution_count": 100,
   "id": "e3cb5346",
   "metadata": {},
   "outputs": [
    {
     "data": {
      "text/html": [
       "<div>\n",
       "<style scoped>\n",
       "    .dataframe tbody tr th:only-of-type {\n",
       "        vertical-align: middle;\n",
       "    }\n",
       "\n",
       "    .dataframe tbody tr th {\n",
       "        vertical-align: top;\n",
       "    }\n",
       "\n",
       "    .dataframe thead th {\n",
       "        text-align: right;\n",
       "    }\n",
       "</style>\n",
       "<table border=\"1\" class=\"dataframe\">\n",
       "  <thead>\n",
       "    <tr style=\"text-align: right;\">\n",
       "      <th></th>\n",
       "      <th>Education</th>\n",
       "      <th>Marital_Status</th>\n",
       "      <th>Income</th>\n",
       "      <th>Recency</th>\n",
       "      <th>NumWebVisitsMonth</th>\n",
       "      <th>Complain</th>\n",
       "      <th>Total_Expenses</th>\n",
       "      <th>Num_Total_Purchases</th>\n",
       "      <th>Kids</th>\n",
       "      <th>TotalAcceptedCmp</th>\n",
       "      <th>Age</th>\n",
       "      <th>label</th>\n",
       "    </tr>\n",
       "  </thead>\n",
       "  <tbody>\n",
       "    <tr>\n",
       "      <th>0</th>\n",
       "      <td>2</td>\n",
       "      <td>0</td>\n",
       "      <td>58138.0</td>\n",
       "      <td>58</td>\n",
       "      <td>7</td>\n",
       "      <td>0</td>\n",
       "      <td>1617</td>\n",
       "      <td>25</td>\n",
       "      <td>0</td>\n",
       "      <td>1</td>\n",
       "      <td>65</td>\n",
       "      <td>1</td>\n",
       "    </tr>\n",
       "    <tr>\n",
       "      <th>1</th>\n",
       "      <td>2</td>\n",
       "      <td>0</td>\n",
       "      <td>46344.0</td>\n",
       "      <td>38</td>\n",
       "      <td>5</td>\n",
       "      <td>0</td>\n",
       "      <td>27</td>\n",
       "      <td>6</td>\n",
       "      <td>2</td>\n",
       "      <td>0</td>\n",
       "      <td>68</td>\n",
       "      <td>0</td>\n",
       "    </tr>\n",
       "    <tr>\n",
       "      <th>2</th>\n",
       "      <td>2</td>\n",
       "      <td>1</td>\n",
       "      <td>71613.0</td>\n",
       "      <td>26</td>\n",
       "      <td>4</td>\n",
       "      <td>0</td>\n",
       "      <td>776</td>\n",
       "      <td>21</td>\n",
       "      <td>0</td>\n",
       "      <td>0</td>\n",
       "      <td>57</td>\n",
       "      <td>2</td>\n",
       "    </tr>\n",
       "    <tr>\n",
       "      <th>3</th>\n",
       "      <td>2</td>\n",
       "      <td>1</td>\n",
       "      <td>26646.0</td>\n",
       "      <td>26</td>\n",
       "      <td>6</td>\n",
       "      <td>0</td>\n",
       "      <td>53</td>\n",
       "      <td>8</td>\n",
       "      <td>1</td>\n",
       "      <td>0</td>\n",
       "      <td>38</td>\n",
       "      <td>0</td>\n",
       "    </tr>\n",
       "    <tr>\n",
       "      <th>4</th>\n",
       "      <td>4</td>\n",
       "      <td>1</td>\n",
       "      <td>58293.0</td>\n",
       "      <td>94</td>\n",
       "      <td>5</td>\n",
       "      <td>0</td>\n",
       "      <td>422</td>\n",
       "      <td>19</td>\n",
       "      <td>1</td>\n",
       "      <td>0</td>\n",
       "      <td>41</td>\n",
       "      <td>2</td>\n",
       "    </tr>\n",
       "  </tbody>\n",
       "</table>\n",
       "</div>"
      ],
      "text/plain": [
       "   Education  Marital_Status   Income  Recency  NumWebVisitsMonth  Complain  \\\n",
       "0          2               0  58138.0       58                  7         0   \n",
       "1          2               0  46344.0       38                  5         0   \n",
       "2          2               1  71613.0       26                  4         0   \n",
       "3          2               1  26646.0       26                  6         0   \n",
       "4          4               1  58293.0       94                  5         0   \n",
       "\n",
       "   Total_Expenses  Num_Total_Purchases  Kids  TotalAcceptedCmp  Age  label  \n",
       "0            1617                   25     0                 1   65      1  \n",
       "1              27                    6     2                 0   68      0  \n",
       "2             776                   21     0                 0   57      2  \n",
       "3              53                    8     1                 0   38      0  \n",
       "4             422                   19     1                 0   41      2  "
      ]
     },
     "execution_count": 100,
     "metadata": {},
     "output_type": "execute_result"
    }
   ],
   "source": [
    "df['label'] = label\n",
    "df.head()"
   ]
  },
  {
   "cell_type": "code",
   "execution_count": 72,
   "id": "06232f1f",
   "metadata": {},
   "outputs": [
    {
     "data": {
      "text/plain": [
       "array([1, 0, 2])"
      ]
     },
     "execution_count": 72,
     "metadata": {},
     "output_type": "execute_result"
    }
   ],
   "source": [
    "df['label'].unique()"
   ]
  },
  {
   "cell_type": "code",
   "execution_count": 74,
   "id": "7bc7c263",
   "metadata": {},
   "outputs": [
    {
     "data": {
      "text/plain": [
       "0    45.669643\n",
       "2    31.696429\n",
       "1    22.633929\n",
       "Name: label, dtype: float64"
      ]
     },
     "execution_count": 74,
     "metadata": {},
     "output_type": "execute_result"
    }
   ],
   "source": [
    "df['label'].value_counts(normalize=True)*100"
   ]
  },
  {
   "cell_type": "code",
   "execution_count": 75,
   "id": "fcda9be3",
   "metadata": {},
   "outputs": [
    {
     "data": {
      "text/plain": [
       "78857.16174638101"
      ]
     },
     "execution_count": 75,
     "metadata": {},
     "output_type": "execute_result"
    }
   ],
   "source": [
    "df[df['label'] == 1]['Income'].mean()"
   ]
  },
  {
   "cell_type": "code",
   "execution_count": 77,
   "id": "483b8178",
   "metadata": {},
   "outputs": [
    {
     "data": {
      "text/plain": [
       "59419.82325850409"
      ]
     },
     "execution_count": 77,
     "metadata": {},
     "output_type": "execute_result"
    }
   ],
   "source": [
    "df[df['label'] == 2]['Income'].mean()"
   ]
  },
  {
   "cell_type": "code",
   "execution_count": 78,
   "id": "2af57cfd",
   "metadata": {},
   "outputs": [
    {
     "data": {
      "text/plain": [
       "34081.317217534604"
      ]
     },
     "execution_count": 78,
     "metadata": {},
     "output_type": "execute_result"
    }
   ],
   "source": [
    "df[df['label'] == 0]['Income'].mean()"
   ]
  },
  {
   "cell_type": "code",
   "execution_count": 80,
   "id": "069c794b",
   "metadata": {},
   "outputs": [
    {
     "data": {
      "text/plain": [
       "0    796\n",
       "Name: Marital_Status, dtype: int64"
      ]
     },
     "execution_count": 80,
     "metadata": {},
     "output_type": "execute_result"
    }
   ],
   "source": [
    "df[df['Marital_Status'] == 0]['Marital_Status'].value_counts()"
   ]
  },
  {
   "cell_type": "code",
   "execution_count": 81,
   "id": "6d7c52c6",
   "metadata": {},
   "outputs": [
    {
     "data": {
      "text/plain": [
       "1    1444\n",
       "Name: Marital_Status, dtype: int64"
      ]
     },
     "execution_count": 81,
     "metadata": {},
     "output_type": "execute_result"
    }
   ],
   "source": [
    "df[df['Marital_Status'] == 1]['Marital_Status'].value_counts()"
   ]
  },
  {
   "cell_type": "markdown",
   "id": "87a525ca",
   "metadata": {},
   "source": [
    "#Insight\n",
    "1. Cluster1 have more avgerage of income than Cluster2 and Cluster3 has least average of income.\n",
    "2. Those no. of customers whose marital status is relationship is greater than single."
   ]
  },
  {
   "cell_type": "code",
   "execution_count": 88,
   "id": "56843cc7",
   "metadata": {},
   "outputs": [
    {
     "data": {
      "text/html": [
       "<div>\n",
       "<style scoped>\n",
       "    .dataframe tbody tr th:only-of-type {\n",
       "        vertical-align: middle;\n",
       "    }\n",
       "\n",
       "    .dataframe tbody tr th {\n",
       "        vertical-align: top;\n",
       "    }\n",
       "\n",
       "    .dataframe thead th {\n",
       "        text-align: right;\n",
       "    }\n",
       "</style>\n",
       "<table border=\"1\" class=\"dataframe\">\n",
       "  <thead>\n",
       "    <tr style=\"text-align: right;\">\n",
       "      <th></th>\n",
       "      <th>PC1</th>\n",
       "      <th>PC2</th>\n",
       "      <th>PC3</th>\n",
       "      <th>PC4</th>\n",
       "      <th>PC5</th>\n",
       "      <th>PC6</th>\n",
       "      <th>PC7</th>\n",
       "      <th>PC8</th>\n",
       "      <th>PC9</th>\n",
       "      <th>Label</th>\n",
       "    </tr>\n",
       "  </thead>\n",
       "  <tbody>\n",
       "    <tr>\n",
       "      <th>0</th>\n",
       "      <td>1.956902</td>\n",
       "      <td>-0.081936</td>\n",
       "      <td>-0.344667</td>\n",
       "      <td>1.193687</td>\n",
       "      <td>-0.696970</td>\n",
       "      <td>-0.299137</td>\n",
       "      <td>-1.145041</td>\n",
       "      <td>-0.358094</td>\n",
       "      <td>-1.576873</td>\n",
       "      <td>1</td>\n",
       "    </tr>\n",
       "    <tr>\n",
       "      <th>1</th>\n",
       "      <td>-1.512598</td>\n",
       "      <td>1.000666</td>\n",
       "      <td>-0.367106</td>\n",
       "      <td>1.006953</td>\n",
       "      <td>-0.445000</td>\n",
       "      <td>1.371965</td>\n",
       "      <td>-0.724374</td>\n",
       "      <td>-0.346359</td>\n",
       "      <td>0.972746</td>\n",
       "      <td>0</td>\n",
       "    </tr>\n",
       "    <tr>\n",
       "      <th>2</th>\n",
       "      <td>1.314538</td>\n",
       "      <td>-0.299417</td>\n",
       "      <td>0.296366</td>\n",
       "      <td>-0.764913</td>\n",
       "      <td>0.732877</td>\n",
       "      <td>0.984394</td>\n",
       "      <td>0.025389</td>\n",
       "      <td>0.058563</td>\n",
       "      <td>-0.735851</td>\n",
       "      <td>2</td>\n",
       "    </tr>\n",
       "    <tr>\n",
       "      <th>3</th>\n",
       "      <td>-1.755094</td>\n",
       "      <td>-1.139847</td>\n",
       "      <td>-0.254499</td>\n",
       "      <td>-0.825065</td>\n",
       "      <td>0.579217</td>\n",
       "      <td>0.221975</td>\n",
       "      <td>0.562426</td>\n",
       "      <td>0.239541</td>\n",
       "      <td>0.005032</td>\n",
       "      <td>0</td>\n",
       "    </tr>\n",
       "    <tr>\n",
       "      <th>4</th>\n",
       "      <td>0.063584</td>\n",
       "      <td>0.571435</td>\n",
       "      <td>0.902243</td>\n",
       "      <td>-0.757574</td>\n",
       "      <td>-0.794825</td>\n",
       "      <td>-1.241683</td>\n",
       "      <td>1.325626</td>\n",
       "      <td>0.898316</td>\n",
       "      <td>-0.016878</td>\n",
       "      <td>2</td>\n",
       "    </tr>\n",
       "  </tbody>\n",
       "</table>\n",
       "</div>"
      ],
      "text/plain": [
       "        PC1       PC2       PC3       PC4       PC5       PC6       PC7  \\\n",
       "0  1.956902 -0.081936 -0.344667  1.193687 -0.696970 -0.299137 -1.145041   \n",
       "1 -1.512598  1.000666 -0.367106  1.006953 -0.445000  1.371965 -0.724374   \n",
       "2  1.314538 -0.299417  0.296366 -0.764913  0.732877  0.984394  0.025389   \n",
       "3 -1.755094 -1.139847 -0.254499 -0.825065  0.579217  0.221975  0.562426   \n",
       "4  0.063584  0.571435  0.902243 -0.757574 -0.794825 -1.241683  1.325626   \n",
       "\n",
       "        PC8       PC9  Label  \n",
       "0 -0.358094 -1.576873      1  \n",
       "1 -0.346359  0.972746      0  \n",
       "2  0.058563 -0.735851      2  \n",
       "3  0.239541  0.005032      0  \n",
       "4  0.898316 -0.016878      2  "
      ]
     },
     "execution_count": 88,
     "metadata": {},
     "output_type": "execute_result"
    }
   ],
   "source": [
    "#joining the label column in the dataset\n",
    "kmeans_df = pca_df.join(label)\n",
    "kmeans_df.head()"
   ]
  },
  {
   "cell_type": "code",
   "execution_count": 90,
   "id": "fbf411a8",
   "metadata": {},
   "outputs": [
    {
     "data": {
      "image/png": "[encoded data removed]",
      "text/plain": [
       "<Figure size 432x288 with 1 Axes>"
      ]
     },
     "metadata": {
      "needs_background": "light"
     },
     "output_type": "display_data"
    }
   ],
   "source": [
    "#visualising the clusters\n",
    "sns.scatterplot(kmeans_df['PC1'], kmeans_df['PC2'], hue='Label', data=kmeans_df)\n",
    "plt.show()"
   ]
  },
  {
   "cell_type": "code",
   "execution_count": 91,
   "id": "9a1d04db",
   "metadata": {},
   "outputs": [
    {
     "data": {
      "image/png": "[encoded data removed]",
      "text/plain": [
       "<Figure size 1296x360 with 1 Axes>"
      ]
     },
     "metadata": {
      "needs_background": "light"
     },
     "output_type": "display_data"
    }
   ],
   "source": [
    "plt.figure(figsize=[18, 5])\n",
    "merg = linkage(scaled_features, method='ward')\n",
    "dendrogram(merg, leaf_rotation=90)\n",
    "plt.xlabel('Datapoints')\n",
    "plt.ylabel('Euclidean Distance')\n",
    "plt.show()"
   ]
  },
  {
   "cell_type": "code",
   "execution_count": 92,
   "id": "7e613ea2",
   "metadata": {},
   "outputs": [],
   "source": [
    "from sklearn.metrics import silhouette_score"
   ]
  },
  {
   "cell_type": "code",
   "execution_count": 93,
   "id": "2998cb79",
   "metadata": {},
   "outputs": [
    {
     "name": "stdout",
     "output_type": "stream",
     "text": [
      "2 0.19083932398841263\n",
      "3 0.19859065923121116\n",
      "4 0.11245037433445754\n",
      "5 0.1142462175685332\n",
      "6 0.13181821517770267\n",
      "7 0.13957002140192074\n",
      "8 0.1390706310270007\n",
      "9 0.11337088108590954\n",
      "10 0.11192131225156017\n",
      "11 0.10382081162153395\n",
      "12 0.10893099764800893\n",
      "13 0.1023394958833542\n",
      "14 0.09549869159604249\n"
     ]
    }
   ],
   "source": [
    "for i in range(2, 15):\n",
    "    hier = AgglomerativeClustering(n_clusters=i)\n",
    "    hier = hier.fit(scaled_features_df)\n",
    "    labels = hier.fit_predict(scaled_features_df)\n",
    "    print(i, silhouette_score(scaled_features_df, labels))"
   ]
  },
  {
   "cell_type": "markdown",
   "id": "d3bdcb26",
   "metadata": {},
   "source": [
    "1. We can observe from dendrogram and silhouette score the highest no. of cluster is 3.\n",
    "2. Let choose k=3 as the optimal cluster size and build an agglomerative clustering model using the original scaled dataset."
   ]
  },
  {
   "cell_type": "code",
   "execution_count": 94,
   "id": "3369c5a5",
   "metadata": {},
   "outputs": [],
   "source": [
    "#Building the hierarchical clustering model using the optimal cluster as 3 using original data.\n",
    "hie_cluster = AgglomerativeClustering(n_clusters=3, affinity='euclidean', linkage='ward')\n",
    "hie_cluster_model = hie_cluster.fit(scaled_features_df)"
   ]
  },
  {
   "cell_type": "code",
   "execution_count": 95,
   "id": "25cd3f2b",
   "metadata": {},
   "outputs": [
    {
     "data": {
      "text/html": [
       "<div>\n",
       "<style scoped>\n",
       "    .dataframe tbody tr th:only-of-type {\n",
       "        vertical-align: middle;\n",
       "    }\n",
       "\n",
       "    .dataframe tbody tr th {\n",
       "        vertical-align: top;\n",
       "    }\n",
       "\n",
       "    .dataframe thead th {\n",
       "        text-align: right;\n",
       "    }\n",
       "</style>\n",
       "<table border=\"1\" class=\"dataframe\">\n",
       "  <thead>\n",
       "    <tr style=\"text-align: right;\">\n",
       "      <th></th>\n",
       "      <th>Labels</th>\n",
       "    </tr>\n",
       "  </thead>\n",
       "  <tbody>\n",
       "    <tr>\n",
       "      <th>0</th>\n",
       "      <td>0</td>\n",
       "    </tr>\n",
       "    <tr>\n",
       "      <th>1</th>\n",
       "      <td>1</td>\n",
       "    </tr>\n",
       "    <tr>\n",
       "      <th>2</th>\n",
       "      <td>0</td>\n",
       "    </tr>\n",
       "    <tr>\n",
       "      <th>3</th>\n",
       "      <td>1</td>\n",
       "    </tr>\n",
       "    <tr>\n",
       "      <th>4</th>\n",
       "      <td>0</td>\n",
       "    </tr>\n",
       "  </tbody>\n",
       "</table>\n",
       "</div>"
      ],
      "text/plain": [
       "   Labels\n",
       "0       0\n",
       "1       1\n",
       "2       0\n",
       "3       1\n",
       "4       0"
      ]
     },
     "execution_count": 95,
     "metadata": {},
     "output_type": "execute_result"
    }
   ],
   "source": [
    "#Creating a dataframe of the labels\n",
    "df_label1 = pd.DataFrame(hie_cluster_model.labels_, columns=['Labels'])\n",
    "df_label1.head()"
   ]
  },
  {
   "cell_type": "code",
   "execution_count": 101,
   "id": "23f5f90c",
   "metadata": {},
   "outputs": [
    {
     "data": {
      "text/html": [
       "<div>\n",
       "<style scoped>\n",
       "    .dataframe tbody tr th:only-of-type {\n",
       "        vertical-align: middle;\n",
       "    }\n",
       "\n",
       "    .dataframe tbody tr th {\n",
       "        vertical-align: top;\n",
       "    }\n",
       "\n",
       "    .dataframe thead th {\n",
       "        text-align: right;\n",
       "    }\n",
       "</style>\n",
       "<table border=\"1\" class=\"dataframe\">\n",
       "  <thead>\n",
       "    <tr style=\"text-align: right;\">\n",
       "      <th></th>\n",
       "      <th>Education</th>\n",
       "      <th>Marital_Status</th>\n",
       "      <th>Income</th>\n",
       "      <th>Recency</th>\n",
       "      <th>NumWebVisitsMonth</th>\n",
       "      <th>Complain</th>\n",
       "      <th>Total_Expenses</th>\n",
       "      <th>Num_Total_Purchases</th>\n",
       "      <th>Kids</th>\n",
       "      <th>TotalAcceptedCmp</th>\n",
       "      <th>Age</th>\n",
       "      <th>label</th>\n",
       "      <th>Labels</th>\n",
       "    </tr>\n",
       "  </thead>\n",
       "  <tbody>\n",
       "    <tr>\n",
       "      <th>0</th>\n",
       "      <td>2</td>\n",
       "      <td>0</td>\n",
       "      <td>58138.0</td>\n",
       "      <td>58</td>\n",
       "      <td>7</td>\n",
       "      <td>0</td>\n",
       "      <td>1617</td>\n",
       "      <td>25</td>\n",
       "      <td>0</td>\n",
       "      <td>1</td>\n",
       "      <td>65</td>\n",
       "      <td>1</td>\n",
       "      <td>0</td>\n",
       "    </tr>\n",
       "    <tr>\n",
       "      <th>1</th>\n",
       "      <td>2</td>\n",
       "      <td>0</td>\n",
       "      <td>46344.0</td>\n",
       "      <td>38</td>\n",
       "      <td>5</td>\n",
       "      <td>0</td>\n",
       "      <td>27</td>\n",
       "      <td>6</td>\n",
       "      <td>2</td>\n",
       "      <td>0</td>\n",
       "      <td>68</td>\n",
       "      <td>0</td>\n",
       "      <td>1</td>\n",
       "    </tr>\n",
       "    <tr>\n",
       "      <th>2</th>\n",
       "      <td>2</td>\n",
       "      <td>1</td>\n",
       "      <td>71613.0</td>\n",
       "      <td>26</td>\n",
       "      <td>4</td>\n",
       "      <td>0</td>\n",
       "      <td>776</td>\n",
       "      <td>21</td>\n",
       "      <td>0</td>\n",
       "      <td>0</td>\n",
       "      <td>57</td>\n",
       "      <td>2</td>\n",
       "      <td>0</td>\n",
       "    </tr>\n",
       "    <tr>\n",
       "      <th>3</th>\n",
       "      <td>2</td>\n",
       "      <td>1</td>\n",
       "      <td>26646.0</td>\n",
       "      <td>26</td>\n",
       "      <td>6</td>\n",
       "      <td>0</td>\n",
       "      <td>53</td>\n",
       "      <td>8</td>\n",
       "      <td>1</td>\n",
       "      <td>0</td>\n",
       "      <td>38</td>\n",
       "      <td>0</td>\n",
       "      <td>1</td>\n",
       "    </tr>\n",
       "    <tr>\n",
       "      <th>4</th>\n",
       "      <td>4</td>\n",
       "      <td>1</td>\n",
       "      <td>58293.0</td>\n",
       "      <td>94</td>\n",
       "      <td>5</td>\n",
       "      <td>0</td>\n",
       "      <td>422</td>\n",
       "      <td>19</td>\n",
       "      <td>1</td>\n",
       "      <td>0</td>\n",
       "      <td>41</td>\n",
       "      <td>2</td>\n",
       "      <td>0</td>\n",
       "    </tr>\n",
       "  </tbody>\n",
       "</table>\n",
       "</div>"
      ],
      "text/plain": [
       "   Education  Marital_Status   Income  Recency  NumWebVisitsMonth  Complain  \\\n",
       "0          2               0  58138.0       58                  7         0   \n",
       "1          2               0  46344.0       38                  5         0   \n",
       "2          2               1  71613.0       26                  4         0   \n",
       "3          2               1  26646.0       26                  6         0   \n",
       "4          4               1  58293.0       94                  5         0   \n",
       "\n",
       "   Total_Expenses  Num_Total_Purchases  Kids  TotalAcceptedCmp  Age  label  \\\n",
       "0            1617                   25     0                 1   65      1   \n",
       "1              27                    6     2                 0   68      0   \n",
       "2             776                   21     0                 0   57      2   \n",
       "3              53                    8     1                 0   38      0   \n",
       "4             422                   19     1                 0   41      2   \n",
       "\n",
       "   Labels  \n",
       "0       0  \n",
       "1       1  \n",
       "2       0  \n",
       "3       1  \n",
       "4       0  "
      ]
     },
     "execution_count": 101,
     "metadata": {},
     "output_type": "execute_result"
    }
   ],
   "source": [
    "#joining the label dataframe with unscaled initial cleaned dataframe(dfc).\n",
    "df_hier = df.join(df_label1)\n",
    "df_hier.head()"
   ]
  },
  {
   "cell_type": "code",
   "execution_count": 103,
   "id": "cef3ee34",
   "metadata": {},
   "outputs": [
    {
     "data": {
      "image/png": "[encoded data removed]",
      "text/plain": [
       "<Figure size 432x288 with 1 Axes>"
      ]
     },
     "metadata": {
      "needs_background": "light"
     },
     "output_type": "display_data"
    }
   ],
   "source": [
    "sns.barplot(df_hier['Labels'], df_hier['Total_Expenses'])\n",
    "plt.show()"
   ]
  },
  {
   "cell_type": "markdown",
   "id": "81d1bd93",
   "metadata": {},
   "source": [
    "The total expenses is much higher for cluster0."
   ]
  },
  {
   "cell_type": "code",
   "execution_count": 104,
   "id": "690628ac",
   "metadata": {},
   "outputs": [
    {
     "data": {
      "image/png": "[encoded data removed]",
      "text/plain": [
       "<Figure size 432x288 with 1 Axes>"
      ]
     },
     "metadata": {
      "needs_background": "light"
     },
     "output_type": "display_data"
    }
   ],
   "source": [
    "sns.barplot(df_hier['Labels'], df_hier['Income'])\n",
    "plt.show()"
   ]
  },
  {
   "cell_type": "markdown",
   "id": "b6d477fb",
   "metadata": {},
   "source": [
    "The Income is much higher for cluster0."
   ]
  },
  {
   "cell_type": "code",
   "execution_count": 105,
   "id": "fd0d0adf",
   "metadata": {},
   "outputs": [
    {
     "data": {
      "image/png": "[encoded data removed]",
      "text/plain": [
       "<Figure size 432x288 with 1 Axes>"
      ]
     },
     "metadata": {
      "needs_background": "light"
     },
     "output_type": "display_data"
    }
   ],
   "source": [
    "sns.countplot(df_hier['Marital_Status'], hue='Labels', data=df_hier)\n",
    "plt.show()"
   ]
  },
  {
   "cell_type": "markdown",
   "id": "374c1328",
   "metadata": {},
   "source": [
    "Most customer that falls in Cluster0 is from relationship marital status."
   ]
  },
  {
   "cell_type": "code",
   "execution_count": 106,
   "id": "ce418d6f",
   "metadata": {},
   "outputs": [
    {
     "data": {
      "image/png": "[encoded data removed]",
      "text/plain": [
       "<Figure size 432x288 with 1 Axes>"
      ]
     },
     "metadata": {
      "needs_background": "light"
     },
     "output_type": "display_data"
    }
   ],
   "source": [
    "sns.barplot(df_hier['Labels'], df_hier['Num_Total_Purchases'])\n",
    "plt.show()"
   ]
  },
  {
   "cell_type": "markdown",
   "id": "3ce1b034",
   "metadata": {},
   "source": [
    "Total purchases is higher for customers of Cluster0."
   ]
  },
  {
   "cell_type": "code",
   "execution_count": null,
   "id": "52b05869",
   "metadata": {},
   "outputs": [],
   "source": [
    "#Insight\n",
    "1. We can conclude that the customers from Cluster0 has max. income, spent max. and maximum purchases.\n",
    "2. Where cluster1 has the least purchases, expenses and income.\n",
    "3. Cluster2 does average purchase and having average income."
   ]
  }
 ],
 "metadata": {
  "kernelspec": {
   "display_name": "Python 3 (ipykernel)",
   "language": "python",
   "name": "python3"
  },
  "language_info": {
   "codemirror_mode": {
    "name": "ipython",
    "version": 3
   },
   "file_extension": ".py",
   "mimetype": "text/x-python",
   "name": "python",
   "nbconvert_exporter": "python",
   "pygments_lexer": "ipython3",
   "version": "3.9.7"
  }
 },
 "nbformat": 4,
 "nbformat_minor": 5
}
